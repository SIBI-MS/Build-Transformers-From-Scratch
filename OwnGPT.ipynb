{
  "nbformat": 4,
  "nbformat_minor": 0,
  "metadata": {
    "colab": {
      "provenance": [],
      "authorship_tag": "ABX9TyNMyjy9NI7xzYz4ct+b8OqZ",
      "include_colab_link": true
    },
    "kernelspec": {
      "name": "python3",
      "display_name": "Python 3"
    },
    "language_info": {
      "name": "python"
    }
  },
  "cells": [
    {
      "cell_type": "markdown",
      "metadata": {
        "id": "view-in-github",
        "colab_type": "text"
      },
      "source": [
        "<a href=\"https://colab.research.google.com/github/SIBI-MS/OwnGPT/blob/main/OwnGPT.ipynb\" target=\"_parent\"><img src=\"https://colab.research.google.com/assets/colab-badge.svg\" alt=\"Open In Colab\"/></a>"
      ]
    },
    {
      "cell_type": "code",
      "execution_count": 1,
      "metadata": {
        "colab": {
          "base_uri": "https://localhost:8080/"
        },
        "id": "DoAUDZcvVuND",
        "outputId": "6ad7f375-79cf-480e-c1c5-46f180579c5d"
      },
      "outputs": [
        {
          "output_type": "stream",
          "name": "stdout",
          "text": [
            "--2024-04-22 05:52:58--  https://raw.githubusercontent.com/karpathy/char-rnn/master/data/tinyshakespeare/input.txt\n",
            "Resolving raw.githubusercontent.com (raw.githubusercontent.com)... 185.199.108.133, 185.199.109.133, 185.199.110.133, ...\n",
            "Connecting to raw.githubusercontent.com (raw.githubusercontent.com)|185.199.108.133|:443... connected.\n",
            "HTTP request sent, awaiting response... 200 OK\n",
            "Length: 1115394 (1.1M) [text/plain]\n",
            "Saving to: ‘input.txt’\n",
            "\n",
            "input.txt           100%[===================>]   1.06M  6.05MB/s    in 0.2s    \n",
            "\n",
            "2024-04-22 05:52:59 (6.05 MB/s) - ‘input.txt’ saved [1115394/1115394]\n",
            "\n"
          ]
        }
      ],
      "source": [
        "!wget https://raw.githubusercontent.com/karpathy/char-rnn/master/data/tinyshakespeare/input.txt"
      ]
    },
    {
      "cell_type": "code",
      "source": [
        "with open('input.txt', 'r', encoding='utf-8') as f:\n",
        "  text=f.read()"
      ],
      "metadata": {
        "id": "4Scad-O6Xtjg"
      },
      "execution_count": 2,
      "outputs": []
    },
    {
      "cell_type": "code",
      "source": [
        "print(text[:1000])"
      ],
      "metadata": {
        "colab": {
          "base_uri": "https://localhost:8080/"
        },
        "id": "-HBql6_UYJXu",
        "outputId": "10cc76af-adb8-488e-9a73-8902af6e5d35"
      },
      "execution_count": 4,
      "outputs": [
        {
          "output_type": "stream",
          "name": "stdout",
          "text": [
            "First Citizen:\n",
            "Before we proceed any further, hear me speak.\n",
            "\n",
            "All:\n",
            "Speak, speak.\n",
            "\n",
            "First Citizen:\n",
            "You are all resolved rather to die than to famish?\n",
            "\n",
            "All:\n",
            "Resolved. resolved.\n",
            "\n",
            "First Citizen:\n",
            "First, you know Caius Marcius is chief enemy to the people.\n",
            "\n",
            "All:\n",
            "We know't, we know't.\n",
            "\n",
            "First Citizen:\n",
            "Let us kill him, and we'll have corn at our own price.\n",
            "Is't a verdict?\n",
            "\n",
            "All:\n",
            "No more talking on't; let it be done: away, away!\n",
            "\n",
            "Second Citizen:\n",
            "One word, good citizens.\n",
            "\n",
            "First Citizen:\n",
            "We are accounted poor citizens, the patricians good.\n",
            "What authority surfeits on would relieve us: if they\n",
            "would yield us but the superfluity, while it were\n",
            "wholesome, we might guess they relieved us humanely;\n",
            "but they think we are too dear: the leanness that\n",
            "afflicts us, the object of our misery, is as an\n",
            "inventory to particularise their abundance; our\n",
            "sufferance is a gain to them Let us revenge this with\n",
            "our pikes, ere we become rakes: for the gods know I\n",
            "speak this in hunger for bread, not in thirst for revenge.\n",
            "\n",
            "\n"
          ]
        }
      ]
    },
    {
      "cell_type": "code",
      "source": [
        "chars=list(set(text))\n",
        "vocab_size=len(chars)\n",
        "print(''.join(chars))\n",
        "print(vocab_size)"
      ],
      "metadata": {
        "colab": {
          "base_uri": "https://localhost:8080/"
        },
        "id": "tMl8_qelXUmP",
        "outputId": "a6159bc5-ac90-428b-ae75-071bbe70aa7b"
      },
      "execution_count": 5,
      "outputs": [
        {
          "output_type": "stream",
          "name": "stdout",
          "text": [
            "FWVJZnSXEeaLMoIC\n",
            "'Auh3ytrTvNODkb!UpGQP?ci$.s,wKfY;:-zlRx BdjHq&gm\n",
            "65\n"
          ]
        }
      ]
    },
    {
      "cell_type": "code",
      "source": [
        "stoi={ch:i for i,ch in enumerate(chars) }\n",
        "itos={i:ch for i,ch in enumerate(chars)}\n",
        "encode=lambda s:[stoi[c] for c in s]\n",
        "decode=lambda l:''.join([itos[i] for i in l])\n",
        "\n",
        "print(encode('hellow world'))\n",
        "print(decode(encode(\"hello world\")))\n",
        "\n"
      ],
      "metadata": {
        "colab": {
          "base_uri": "https://localhost:8080/"
        },
        "id": "ZmTmRbFAXUho",
        "outputId": "cea65c13-4ebc-406a-b02c-0d70921bbf89"
      },
      "execution_count": 7,
      "outputs": [
        {
          "output_type": "stream",
          "name": "stdout",
          "text": [
            "[20, 9, 53, 53, 13, 45, 56, 45, 13, 24, 53, 58]\n",
            "hello world\n"
          ]
        }
      ]
    },
    {
      "cell_type": "code",
      "source": [
        "import torch\n",
        "data = torch.tensor(encode(text), dtype=torch.long)\n",
        "print(data.shape, data.dtype)\n",
        "print(data[:1000])"
      ],
      "metadata": {
        "colab": {
          "base_uri": "https://localhost:8080/"
        },
        "id": "-MpBXFz7XUeP",
        "outputId": "ab2caf52-953f-45db-8764-bd4eeb52dd2f"
      },
      "execution_count": 8,
      "outputs": [
        {
          "output_type": "stream",
          "name": "stdout",
          "text": [
            "torch.Size([1115394]) torch.int64\n",
            "tensor([ 0, 40, 24, 43, 23, 56, 15, 40, 23, 40, 52,  9,  5, 50, 16, 57,  9, 47,\n",
            "        13, 24,  9, 56, 45,  9, 56, 34, 24, 13, 39,  9,  9, 58, 56, 10,  5, 22,\n",
            "        56, 47, 19, 24, 23, 20,  9, 24, 44, 56, 20,  9, 10, 24, 56, 64,  9, 56,\n",
            "        43, 34,  9, 10, 30, 42, 16, 16, 18, 53, 53, 50, 16,  6, 34,  9, 10, 30,\n",
            "        44, 56, 43, 34,  9, 10, 30, 42, 16, 16,  0, 40, 24, 43, 23, 56, 15, 40,\n",
            "        23, 40, 52,  9,  5, 50, 16, 48, 13, 19, 56, 10, 24,  9, 56, 10, 53, 53,\n",
            "        56, 24,  9, 43, 13, 53, 26,  9, 58, 56, 24, 10, 23, 20,  9, 24, 56, 23,\n",
            "        13, 56, 58, 40,  9, 56, 23, 20, 10,  5, 56, 23, 13, 56, 47, 10, 64, 40,\n",
            "        43, 20, 38, 16, 16, 18, 53, 53, 50, 16, 54,  9, 43, 13, 53, 26,  9, 58,\n",
            "        42, 56, 24,  9, 43, 13, 53, 26,  9, 58, 42, 16, 16,  0, 40, 24, 43, 23,\n",
            "        56, 15, 40, 23, 40, 52,  9,  5, 50, 16,  0, 40, 24, 43, 23, 44, 56, 22,\n",
            "        13, 19, 56, 30,  5, 13, 45, 56, 15, 10, 40, 19, 43, 56, 12, 10, 24, 39,\n",
            "        40, 19, 43, 56, 40, 43, 56, 39, 20, 40,  9, 47, 56,  9,  5,  9, 64, 22,\n",
            "        56, 23, 13, 56, 23, 20,  9, 56, 34,  9, 13, 34, 53,  9, 42, 16, 16, 18,\n",
            "        53, 53, 50, 16,  1,  9, 56, 30,  5, 13, 45, 17, 23, 44, 56, 45,  9, 56,\n",
            "        30,  5, 13, 45, 17, 23, 42, 16, 16,  0, 40, 24, 43, 23, 56, 15, 40, 23,\n",
            "        40, 52,  9,  5, 50, 16, 11,  9, 23, 56, 19, 43, 56, 30, 40, 53, 53, 56,\n",
            "        20, 40, 64, 44, 56, 10,  5, 58, 56, 45,  9, 17, 53, 53, 56, 20, 10, 26,\n",
            "         9, 56, 39, 13, 24,  5, 56, 10, 23, 56, 13, 19, 24, 56, 13, 45,  5, 56,\n",
            "        34, 24, 40, 39,  9, 42, 16, 14, 43, 17, 23, 56, 10, 56, 26,  9, 24, 58,\n",
            "        40, 39, 23, 38, 16, 16, 18, 53, 53, 50, 16, 27, 13, 56, 64, 13, 24,  9,\n",
            "        56, 23, 10, 53, 30, 40,  5, 63, 56, 13,  5, 17, 23, 49, 56, 53,  9, 23,\n",
            "        56, 40, 23, 56, 31,  9, 56, 58, 13,  5,  9, 50, 56, 10, 45, 10, 22, 44,\n",
            "        56, 10, 45, 10, 22, 32, 16, 16,  6,  9, 39, 13,  5, 58, 56, 15, 40, 23,\n",
            "        40, 52,  9,  5, 50, 16, 28,  5,  9, 56, 45, 13, 24, 58, 44, 56, 63, 13,\n",
            "        13, 58, 56, 39, 40, 23, 40, 52,  9,  5, 43, 42, 16, 16,  0, 40, 24, 43,\n",
            "        23, 56, 15, 40, 23, 40, 52,  9,  5, 50, 16,  1,  9, 56, 10, 24,  9, 56,\n",
            "        10, 39, 39, 13, 19,  5, 23,  9, 58, 56, 34, 13, 13, 24, 56, 39, 40, 23,\n",
            "        40, 52,  9,  5, 43, 44, 56, 23, 20,  9, 56, 34, 10, 23, 24, 40, 39, 40,\n",
            "        10,  5, 43, 56, 63, 13, 13, 58, 42, 16,  1, 20, 10, 23, 56, 10, 19, 23,\n",
            "        20, 13, 24, 40, 23, 22, 56, 43, 19, 24, 47,  9, 40, 23, 43, 56, 13,  5,\n",
            "        56, 45, 13, 19, 53, 58, 56, 24,  9, 53, 40,  9, 26,  9, 56, 19, 43, 50,\n",
            "        56, 40, 47, 56, 23, 20,  9, 22, 16, 45, 13, 19, 53, 58, 56, 22, 40,  9,\n",
            "        53, 58, 56, 19, 43, 56, 31, 19, 23, 56, 23, 20,  9, 56, 43, 19, 34,  9,\n",
            "        24, 47, 53, 19, 40, 23, 22, 44, 56, 45, 20, 40, 53,  9, 56, 40, 23, 56,\n",
            "        45,  9, 24,  9, 16, 45, 20, 13, 53,  9, 43, 13, 64,  9, 44, 56, 45,  9,\n",
            "        56, 64, 40, 63, 20, 23, 56, 63, 19,  9, 43, 43, 56, 23, 20,  9, 22, 56,\n",
            "        24,  9, 53, 40,  9, 26,  9, 58, 56, 19, 43, 56, 20, 19, 64, 10,  5,  9,\n",
            "        53, 22, 49, 16, 31, 19, 23, 56, 23, 20,  9, 22, 56, 23, 20, 40,  5, 30,\n",
            "        56, 45,  9, 56, 10, 24,  9, 56, 23, 13, 13, 56, 58,  9, 10, 24, 50, 56,\n",
            "        23, 20,  9, 56, 53,  9, 10,  5,  5,  9, 43, 43, 56, 23, 20, 10, 23, 16,\n",
            "        10, 47, 47, 53, 40, 39, 23, 43, 56, 19, 43, 44, 56, 23, 20,  9, 56, 13,\n",
            "        31, 59,  9, 39, 23, 56, 13, 47, 56, 13, 19, 24, 56, 64, 40, 43,  9, 24,\n",
            "        22, 44, 56, 40, 43, 56, 10, 43, 56, 10,  5, 16, 40,  5, 26,  9,  5, 23,\n",
            "        13, 24, 22, 56, 23, 13, 56, 34, 10, 24, 23, 40, 39, 19, 53, 10, 24, 40,\n",
            "        43,  9, 56, 23, 20,  9, 40, 24, 56, 10, 31, 19,  5, 58, 10,  5, 39,  9,\n",
            "        49, 56, 13, 19, 24, 16, 43, 19, 47, 47,  9, 24, 10,  5, 39,  9, 56, 40,\n",
            "        43, 56, 10, 56, 63, 10, 40,  5, 56, 23, 13, 56, 23, 20,  9, 64, 56, 11,\n",
            "         9, 23, 56, 19, 43, 56, 24,  9, 26,  9,  5, 63,  9, 56, 23, 20, 40, 43,\n",
            "        56, 45, 40, 23, 20, 16, 13, 19, 24, 56, 34, 40, 30,  9, 43, 44, 56,  9,\n",
            "        24,  9, 56, 45,  9, 56, 31,  9, 39, 13, 64,  9, 56, 24, 10, 30,  9, 43,\n",
            "        50, 56, 47, 13, 24, 56, 23, 20,  9, 56, 63, 13, 58, 43, 56, 30,  5, 13,\n",
            "        45, 56, 14, 16, 43, 34,  9, 10, 30, 56, 23, 20, 40, 43, 56, 40,  5, 56,\n",
            "        20, 19,  5, 63,  9, 24, 56, 47, 13, 24, 56, 31, 24,  9, 10, 58, 44, 56,\n",
            "         5, 13, 23, 56, 40,  5, 56, 23, 20, 40, 24, 43, 23, 56, 47, 13, 24, 56,\n",
            "        24,  9, 26,  9,  5, 63,  9, 42, 16, 16])\n"
          ]
        }
      ]
    },
    {
      "cell_type": "code",
      "source": [],
      "metadata": {
        "id": "BETOOPpcXUbE"
      },
      "execution_count": null,
      "outputs": []
    },
    {
      "cell_type": "code",
      "source": [],
      "metadata": {
        "id": "YJOzPdh7XUYS"
      },
      "execution_count": null,
      "outputs": []
    },
    {
      "cell_type": "code",
      "source": [],
      "metadata": {
        "id": "MVU_S0a7XUVs"
      },
      "execution_count": null,
      "outputs": []
    },
    {
      "cell_type": "code",
      "source": [],
      "metadata": {
        "id": "1XMqzlTFXUSj"
      },
      "execution_count": null,
      "outputs": []
    },
    {
      "cell_type": "code",
      "source": [],
      "metadata": {
        "id": "w-cAWh3LXUN4"
      },
      "execution_count": null,
      "outputs": []
    },
    {
      "cell_type": "code",
      "source": [],
      "metadata": {
        "id": "3-0U9Ln6XUKe"
      },
      "execution_count": null,
      "outputs": []
    },
    {
      "cell_type": "code",
      "source": [],
      "metadata": {
        "id": "bGd9DpKgXUHJ"
      },
      "execution_count": null,
      "outputs": []
    },
    {
      "cell_type": "code",
      "source": [],
      "metadata": {
        "id": "4PMUy5iaXUEW"
      },
      "execution_count": null,
      "outputs": []
    },
    {
      "cell_type": "code",
      "source": [],
      "metadata": {
        "id": "80EqEUr-XUAr"
      },
      "execution_count": null,
      "outputs": []
    },
    {
      "cell_type": "code",
      "source": [],
      "metadata": {
        "id": "yPAlfUFwXT9T"
      },
      "execution_count": null,
      "outputs": []
    },
    {
      "cell_type": "code",
      "source": [],
      "metadata": {
        "id": "XPd5qVCDXT6r"
      },
      "execution_count": null,
      "outputs": []
    },
    {
      "cell_type": "code",
      "source": [],
      "metadata": {
        "id": "qUiLZS9EXT3P"
      },
      "execution_count": null,
      "outputs": []
    },
    {
      "cell_type": "code",
      "source": [],
      "metadata": {
        "id": "-zFA0uw-XTzw"
      },
      "execution_count": null,
      "outputs": []
    },
    {
      "cell_type": "code",
      "source": [],
      "metadata": {
        "id": "7adRHYWxXTwc"
      },
      "execution_count": null,
      "outputs": []
    },
    {
      "cell_type": "code",
      "source": [],
      "metadata": {
        "id": "dJKjIF-JXTtJ"
      },
      "execution_count": null,
      "outputs": []
    },
    {
      "cell_type": "code",
      "source": [],
      "metadata": {
        "id": "rE6a1aq_XTp_"
      },
      "execution_count": null,
      "outputs": []
    },
    {
      "cell_type": "code",
      "source": [],
      "metadata": {
        "id": "3qYqEfvLXTma"
      },
      "execution_count": null,
      "outputs": []
    },
    {
      "cell_type": "code",
      "source": [],
      "metadata": {
        "id": "FYKcXHzNXTjU"
      },
      "execution_count": null,
      "outputs": []
    },
    {
      "cell_type": "code",
      "source": [],
      "metadata": {
        "id": "XZZobF2vXTgB"
      },
      "execution_count": null,
      "outputs": []
    },
    {
      "cell_type": "code",
      "source": [],
      "metadata": {
        "id": "Gw8bUNTHXTck"
      },
      "execution_count": null,
      "outputs": []
    },
    {
      "cell_type": "code",
      "source": [],
      "metadata": {
        "id": "Ds2_aIoXXTZT"
      },
      "execution_count": null,
      "outputs": []
    },
    {
      "cell_type": "code",
      "source": [],
      "metadata": {
        "id": "HG5k7eM2XTWE"
      },
      "execution_count": null,
      "outputs": []
    },
    {
      "cell_type": "code",
      "source": [],
      "metadata": {
        "id": "HUuWOvR2XTSy"
      },
      "execution_count": null,
      "outputs": []
    },
    {
      "cell_type": "code",
      "source": [],
      "metadata": {
        "id": "4QoxeRmqXTPz"
      },
      "execution_count": null,
      "outputs": []
    },
    {
      "cell_type": "code",
      "source": [],
      "metadata": {
        "id": "xDu-WOc0XTMT"
      },
      "execution_count": null,
      "outputs": []
    },
    {
      "cell_type": "code",
      "source": [],
      "metadata": {
        "id": "00l5oKV9XTIx"
      },
      "execution_count": null,
      "outputs": []
    },
    {
      "cell_type": "code",
      "source": [],
      "metadata": {
        "id": "Lt_HNq7yXTFh"
      },
      "execution_count": null,
      "outputs": []
    },
    {
      "cell_type": "code",
      "source": [],
      "metadata": {
        "id": "ntUMi8zbXTB2"
      },
      "execution_count": null,
      "outputs": []
    },
    {
      "cell_type": "code",
      "source": [],
      "metadata": {
        "id": "VDpwCr-SXS-j"
      },
      "execution_count": null,
      "outputs": []
    },
    {
      "cell_type": "code",
      "source": [],
      "metadata": {
        "id": "h1r0u8wwXS6_"
      },
      "execution_count": null,
      "outputs": []
    },
    {
      "cell_type": "code",
      "source": [],
      "metadata": {
        "id": "sX5jjEY0XS3s"
      },
      "execution_count": null,
      "outputs": []
    },
    {
      "cell_type": "code",
      "source": [],
      "metadata": {
        "id": "oHp4R-KbXS0H"
      },
      "execution_count": null,
      "outputs": []
    },
    {
      "cell_type": "code",
      "source": [],
      "metadata": {
        "id": "whjVKwV_XSxK"
      },
      "execution_count": null,
      "outputs": []
    },
    {
      "cell_type": "code",
      "source": [],
      "metadata": {
        "id": "ujuwLrGyXStd"
      },
      "execution_count": null,
      "outputs": []
    },
    {
      "cell_type": "code",
      "source": [],
      "metadata": {
        "id": "Xx7QkVnNXSqN"
      },
      "execution_count": null,
      "outputs": []
    },
    {
      "cell_type": "code",
      "source": [],
      "metadata": {
        "id": "OHlcBtqxXSm2"
      },
      "execution_count": null,
      "outputs": []
    },
    {
      "cell_type": "code",
      "source": [],
      "metadata": {
        "id": "KbVFlYTiXSjr"
      },
      "execution_count": null,
      "outputs": []
    },
    {
      "cell_type": "code",
      "source": [],
      "metadata": {
        "id": "aW4vW5gFXSgX"
      },
      "execution_count": null,
      "outputs": []
    },
    {
      "cell_type": "code",
      "source": [],
      "metadata": {
        "id": "SgAL3HcQXSc2"
      },
      "execution_count": null,
      "outputs": []
    },
    {
      "cell_type": "code",
      "source": [],
      "metadata": {
        "id": "yVJiBxNyXSZt"
      },
      "execution_count": null,
      "outputs": []
    },
    {
      "cell_type": "code",
      "source": [],
      "metadata": {
        "id": "hnhQnhbtXSWb"
      },
      "execution_count": null,
      "outputs": []
    },
    {
      "cell_type": "code",
      "source": [],
      "metadata": {
        "id": "53tGvPiEXSTK"
      },
      "execution_count": null,
      "outputs": []
    },
    {
      "cell_type": "code",
      "source": [],
      "metadata": {
        "id": "fmiYtjMLXSP3"
      },
      "execution_count": null,
      "outputs": []
    },
    {
      "cell_type": "code",
      "source": [],
      "metadata": {
        "id": "H1QiOVlSXSM_"
      },
      "execution_count": null,
      "outputs": []
    },
    {
      "cell_type": "code",
      "source": [],
      "metadata": {
        "id": "ts2tA_3MXSJP"
      },
      "execution_count": null,
      "outputs": []
    },
    {
      "cell_type": "code",
      "source": [],
      "metadata": {
        "id": "rrTlOoWbXR7o"
      },
      "execution_count": null,
      "outputs": []
    }
  ]
}